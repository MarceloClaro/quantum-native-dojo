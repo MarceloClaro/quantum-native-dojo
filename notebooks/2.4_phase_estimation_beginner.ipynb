{
 "cells": [
  {
   "cell_type": "markdown",
   "metadata": {},
   "source": [
    "## 2-4. 位相推定アルゴリズム（入門編）\n",
    "\n",
    "この節では、量子コンピュータの将来の応用を考える上でも非常に大切な、ユニタリ行列の固有値を求める**位相推定アルゴリズム**という量子アルゴリズムについて学ぶ。位相推定アルゴリズムは、数多くの量子アルゴリズムの基礎として使われており、量子アルゴリズムの中でも最も重要なものの一つと言える。   \n",
    "(参照：Nielsen-Chuang の `5.2 Phase estimation`)"
   ]
  },
  {
   "cell_type": "markdown",
   "metadata": {},
   "source": [
    "### はじめに：アダマールテストを改良する\n",
    "[2-2節](2.2_Hadamard_test.ipynb)と同様に、ユニタリ演算$U$の固有値$e^{i\\lambda}$を求める問題を考えよう。アダマールテストでは、固有値の位相$\\lambda$はテストの測定結果の確率分布に反映され、測定結果をたくさんサンプルすることで$\\lambda$を推定していた。これをもう少し工夫することで、測定結果から位相の情報をより直接的に取り出すことができることを見ていこう。"
   ]
  },
  {
   "cell_type": "markdown",
   "metadata": {},
   "source": [
    "下準備として、$\\lambda/2\\pi$を2進展開しよう：\n",
    "\n",
    "$$\n",
    "\\frac{\\lambda}{2\\pi} = \\frac{j_1}{2^1} + \\frac{j_2}{2^2} +\\cdots+ \\frac{j_k}{2^k} +\\cdots\n",
    "$$\n",
    "\n",
    "$j_k$は0または1の値を取る（古典）ビットである。$\\lambda$は$e^{i\\lambda}$の形でのみ出てくるので、$0 \\leq \\lambda < 2\\pi$として一般性を失わない。この2進展開を、通常の小数の表記にならって以下のように書く。\n",
    "\n",
    "$$\n",
    "\\lambda = (2\\pi) 0.j_1 j_2 \\ldots j_k \\ldots\n",
    "$$\n",
    "\n",
    "以下では簡単のため、$\\lambda/2\\pi$は小数点以下$n$桁で書けるものとする。\n",
    "\n",
    "$$\n",
    "\\lambda = (2\\pi) 0.j_1 j_2 \\ldots j_n\n",
    "$$"
   ]
  },
  {
   "cell_type": "markdown",
   "metadata": {},
   "source": [
    "さて、アダマールテストでは制御ユニタリ演算として$\\Lambda(U)$を用いたが、ここではそれを少し変えて$\\Lambda(U^{2^k})$としてみよう。[2-2節](2.2_Hadamard_test.ipynb)の前半と同様、$|\\psi\\rangle$が$U$の固有状態であることを仮定する。制御ユニタリ演算を行なった後の状態は\n",
    "\n",
    "$$\n",
    "\\frac{1}{\\sqrt{2}}\n",
    "\\left(\n",
    " |0\\rangle +\n",
    " e^{i2^k\\lambda} |1\\rangle\n",
    "\\right)\n",
    "\\otimes |\\psi\\rangle\n",
    "$$\n",
    "\n",
    "上記の2進展開を使うと、\n",
    "\n",
    "$$\n",
    "2^k \\lambda =\n",
    "2^k \\cdot (2\\pi)0.j_1 j_2 \\ldots j_r =\n",
    "(2\\pi)j_1 j_2 \\ldots j_k . j_{k+1} \\ldots j_n\n",
    "$$\n",
    "\n",
    "$e^{i(2\\pi)j_1 \\ldots j_k} = 1$だから、結局、\n",
    "\n",
    "$$\n",
    "\\frac{1}{\\sqrt{2}}\n",
    "\\left(\n",
    " |0\\rangle +\n",
    " e^{i(2\\pi)0.j_{k+1} \\ldots j_n} |1\\rangle  \\tag{1}\n",
    "\\right)\n",
    "$$\n",
    "\n",
    "となる。（$|\\psi\\rangle$ は省略した）\n",
    "\n",
    "まず、$k=n-1$のときを考えよう。このとき、\n",
    "\n",
    "$$\n",
    "\\frac{1}{\\sqrt{2}} \\left( |0\\rangle + e^{i(2\\pi)0.j_n} |1\\rangle \\right)\n",
    "$$\n",
    "\n",
    "だから、アダマールゲートをかければ\n",
    "\n",
    "$$\n",
    "\\frac{1}{\\sqrt{2}} \\left( |0\\rangle + e^{i(2\\pi)0.j_n} |1\\rangle \\right) \\to |j_n\\rangle\n",
    "$$\n",
    "\n",
    "と、$\\lambda$の2進小数表示の$n$番目のビット$j_n=\\pm 1$に対応した状態に変換できる。この状態を測定すれば、100%の確率で$j_n$が観測されるので、1回の測定で$\\lambda$の$n$桁目を決定することができる。   \n",
    "次に、$k=n-2$の時を考えると、状態は\n",
    "\n",
    "$$\n",
    "\\frac{1}{\\sqrt{2}} \\left( |0\\rangle + e^{i(2\\pi)0.j_{n-1}j_n} |1\\rangle \\right)\n",
    "$$\n",
    "\n",
    "である。$j_n$は先ほど調べてあるので、$j_n=0$の時は何もせず、$j_n=1$の時は一般位相ゲート\n",
    "\n",
    "$$\n",
    "R_{l}^\\dagger = \\begin{pmatrix} 1 & 0\\\\ 0 & e^{-i \\frac{2\\pi}{2^l} } \\end{pmatrix}\n",
    "$$\n",
    "\n",
    "の$R_2^\\dagger$をかけると、\n",
    "\n",
    "$$\n",
    "\\frac{1}{\\sqrt{2}} \\left( |0\\rangle + e^{i(2\\pi)0.j_{n-1}j_n} |1\\rangle \\right) \\to \\frac{1}{\\sqrt{2}} \\left( |0\\rangle + e^{i(2\\pi)0.j_{n-1}} |1\\rangle \\right)\n",
    "$$\n",
    "\n",
    "と変換できる。そしてアダマールゲートをかければ\n",
    "\n",
    "$$\n",
    "\\frac{1}{\\sqrt{2}} \\left( |0\\rangle + e^{i(2\\pi)0.j_{n-1}} |1\\rangle \\right) \\to |j_{n-1}\\rangle\n",
    "$$\n",
    "\n",
    "となるから、$j_{n-1}$もこの状態を1回測定するだけで決定できる。   \n",
    "以下、同様に$k=n-3, \\cdots, 0$とすれば下の方の桁から$j_{k+1}$を決定していくことができる。\n",
    "\n",
    "このように、アダマールテストを少し変形することで、固有値の位相を1桁ずつ(確定した)量子ビットの状態として取り出すことができる。この手続きを量子回路でいっぺんに行うのが、以下で説明する位相推定アルゴリズムである。"
   ]
  },
  {
   "cell_type": "markdown",
   "metadata": {},
   "source": [
    "### 位相推定アルゴリズム：概要\n",
    "上記のアダマールテスト改良版で出てきた式(1)は、どこかで見たことがある形ではないだろうか。そう、[2-3節](2.3_quantum_Fourier_transform.ipynb)で学んだ量子フーリエ変換の途中式(`回路の構成`セクション)と同じである。実は、上記のアルゴリズムの測定側の量子ビットを拡張し、量子フーリエ変換を組み合わせたのが、Kitaevによって提案された位相推定アルゴリズム[1]である。詳細はともかく、どのような操作ができるアルゴリズムなのかを、まず紹介しよう。\n",
    "\n",
    "$U$を量子回路として構成できる一般的なユニタリ行列とする。$U$の固有ベクトルを$|{\\rm eigen}_l \\rangle$とし、対応する固有値を$e^{i\\lambda_l}$とする。ある一般的な量子状態$|\\psi\\rangle$が与えられたとする。これは必ず固有ベクトルで展開できる：\n",
    "\n",
    "$$\n",
    "|\\psi \\rangle = \\sum _l c_l |{\\rm eigen}_l \\rangle\n",
    "$$\n",
    "\n",
    "もちろん具体的に係数$c_l$がどのような値になるかはわからなくてよい。このとき**位相推定アルゴリズムは、**$n$**個の補助量子ビットを用いて、入力状態**\n",
    "\n",
    "$$\n",
    "|00...0\\rangle |\\psi\\rangle\n",
    "$$\n",
    "\n",
    "**を、**\n",
    "\n",
    "$$\n",
    "\\sum _l c_l |\\lambda_l \\rangle | {\\rm eigen}_l \\rangle \n",
    "$$\n",
    "\n",
    "**へと変換するアルゴリズム**のことである。ここで、$|\\lambda_l\\rangle$ は固有値の位相$\\lambda_l$の2進小数表示$\\lambda_l=(2\\pi)0.j_1^{(l)}\\cdots j_n^{(l)}$に対応する量子状態$|j_1^{(l)}\\cdots j_n^{(l)}\\rangle$である\n",
    "（ここでは、$\\lambda_l$の2進小数表示が$n$桁で終わるとすると仮定した；次項の記述も参照）。   \n",
    "つまり位相推定アルゴリズムは、$|\\psi\\rangle$の重ね合わせの中にある**それぞれの固有ベクトルに対応した固有値を**$n$**個の補助量子ビットへと取り出すアルゴリズム**になっている。この状態に対して補助量子ビットの測定をすると、確率 \n",
    "\n",
    "$$\n",
    "p_l = |c_l |^2\n",
    "$$\n",
    "\n",
    "で、どれか一つの固有ベクトル$|{\\rm eigen}_l\\rangle$とその固有値$\\lambda_l$が乱択される。このアルゴリズムは、素因数分解や量子化学アルゴリズム(分子などのエネルギー計算)、そしてその他多くのアルゴリズムのサブルーチンとして利用されていおり、**量子コンピュータが従来コンピュータよりも指数的に高速に解を得られる（と期待されている）最も重要な例**である。"
   ]
  },
  {
   "cell_type": "markdown",
   "metadata": {},
   "source": [
    "### 位相推定アルゴリズム：構成\n",
    "以下では、入力状態$|\\psi\\rangle$を固有状態$|{\\rm eigen}\\rangle$とその固有値$\\lambda$に限定して、位相推定アルゴリズムを説明していくことにする（入力状態が固有状態の重ね合わせの場合でも全く同じ議論が使えるので、一般性は失われていない）。 アダマールテストでは1つしか測定用の量子ビットを使わなかったが、位相推定では、測定用の補助量子ビットとして$n$個の量子ビットを確保する。\n",
    "位相推定を行う回路は以下の図のようである。\n",
    "![PEA](figs/2/PEA.png)"
   ]
  },
  {
   "cell_type": "markdown",
   "metadata": {},
   "source": [
    "再び、ユニタリー演算$U$の固有値$e^{i\\lambda}$の位相$\\lambda$を$n$ビットの2進小数を用いて\n",
    "\n",
    "$$\n",
    "\\lambda = (2\\pi) 0.j_1 j_2...j_n\n",
    "$$\n",
    "\n",
    "と書いておく。（$\\lambda$の2進小数表示が$n$桁で終わると仮定する；終わらない場合には、最後の測定の際に若干のエラーが生じるが、測定を繰り返せばこのエラーは克服できる。詳細は冒頭のNielsen-Chuangの参照箇所にあたられたい）\n",
    "\n",
    "1. まず、$|0\\rangle$に初期化された$n$個の量子ビットのそれぞれに、アダマールテストと同様にアダマールゲートと制御ユニタリー演算を作用させる。ただし$k$番目（$k=1,...,n$）の補助量子ビットには制御$U^{2^{k-1}}$演算をすることにする。   \n",
    "$U|{\\rm eigen}\\rangle = e^{i2\\pi\\lambda}|{\\rm eigen}\\rangle$だから、$k$番目の補助量子ビットには$e^{i \\lambda 2^k}$の位相が獲得される（これを位相キックバックと呼ぶ）ことになり、\n",
    "\n",
    "    $$\n",
    "\\left( \\frac{|0\\rangle + e^{i (2\\pi)0.j_1\\cdots j_n} |1\\rangle }{\\sqrt{2}} \\right) \\otimes\n",
    "\\left( \\frac{|0\\rangle + e^{i (2\\pi)0.j_2\\cdots j_n} |1\\rangle }{\\sqrt{2}} \\right) \\otimes \\cdots \\otimes\n",
    "\\left( \\frac{|0\\rangle + e^{i (2\\pi)0.j_n} |1\\rangle }{\\sqrt{2}} \\right) \\otimes\n",
    "|{\\rm eigen} \\rangle\n",
    "$$\n",
    "\n",
    "    という状態が得られる。   \n",
    "つまり、固有値の位相を2進小数表示で1ビットずつシフトしたものが各補助量子ビットの位相に格納されることになる。\n",
    "\n",
    "2. $n$個の補助量子ビットの状態は、[2-3節](2.3_quantum_Fourier_transform.ipynb)で学んだ量子フーリエ変換の結果の式と全く同じ形をしている。よって、逆量子フーリエ変換(図の$QFT^\\dagger$)をこれらの補助量子ビットに作用させると、\n",
    "\n",
    "    $$\n",
    "\\left( \\frac{|0\\rangle + e^{i (2\\pi)0.j_1\\cdots j_n} |1\\rangle }{\\sqrt{2}} \\right) \\otimes\n",
    "\\left( \\frac{|0\\rangle + e^{i (2\\pi)0.j_2\\cdots j_n} |1\\rangle }{\\sqrt{2}} \\right) \\otimes \\cdots \\otimes\n",
    "\\left( \\frac{|0\\rangle + e^{i (2\\pi)0.j_n} |1\\rangle }{\\sqrt{2}} \\right) \\otimes\n",
    "\\rangle\n",
    "\\rightarrow |j_1...j_n\\rangle\n",
    "$$\n",
    "\n",
    "    となる。よって、この段階で補助量子ビットの測定を行えば、100%の確率で $j_1, j_2,\\cdots,j_n$ が得られ、$U$の固有値の位相$\\lambda$が求められる。\n",
    "\n",
    "まとめると、測定用の各量子ビットを制御ビットとする制御$U^{2^k}$演算を行なって**固有値の位相の情報を補助量子ビットに移した後、逆量子フーリエ変換で位相の値を取り出す**のが、位相推定アルゴリズムである。"
   ]
  },
  {
   "cell_type": "markdown",
   "metadata": {},
   "source": [
    "### SymPyによる具体例\n",
    "SymPyで具体例を見ていこう。T演算とS演算を用いて以下のような4×4行列$U$をつくり、この行列の固有値を求めてみる。"
   ]
  },
  {
   "cell_type": "code",
   "execution_count": 1,
   "metadata": {},
   "outputs": [],
   "source": [
    "from sympy import *\n",
    "from sympy.physics.quantum import *\n",
    "from sympy.physics.quantum.qubit import Qubit,QubitBra\n",
    "init_printing() # ベクトルや行列を綺麗に表示するため\n",
    "from sympy.physics.quantum.gate import X,Y,Z,H,S,T,CNOT,SWAP,CPHASE,CGateS"
   ]
  },
  {
   "cell_type": "code",
   "execution_count": 2,
   "metadata": {
    "nbsphinx": "hidden"
   },
   "outputs": [],
   "source": [
    "# Google Colaboratory上でのみ実行してください\n",
    "from IPython.display import HTML\n",
    "def setup_mathjax():\n",
    "    display(HTML('''\n",
    "    <script>\n",
    "        if (!window.MathJax && window.google && window.google.colab) {\n",
    "            window.MathJax = {\n",
    "                'tex2jax': {\n",
    "                    'inlineMath': [['$', '$'], ['\\\\(', '\\\\)']],\n",
    "                    'displayMath': [['$$', '$$'], ['\\\\[', '\\\\]']],\n",
    "                    'processEscapes': true,\n",
    "                    'processEnvironments': true,\n",
    "                    'skipTags': ['script', 'noscript', 'style', 'textarea', 'code'],\n",
    "                    'displayAlign': 'center',\n",
    "                },\n",
    "                'HTML-CSS': {\n",
    "                    'styles': {'.MathJax_Display': {'margin': 0}},\n",
    "                    'linebreaks': {'automatic': true},\n",
    "                    // Disable to prevent OTF font loading, which aren't part of our\n",
    "                    // distribution.\n",
    "                    'imageFont': null,\n",
    "                },\n",
    "               'messageStyle': 'none'\n",
    "            };\n",
    "            var script = document.createElement(\"script\");\n",
    "            script.src = \"https://colab.research.google.com/static/mathjax/MathJax.js?config=TeX-AMS_HTML-full,Safe\";\n",
    "            document.head.appendChild(script);\n",
    "        }\n",
    "    </script>\n",
    "    '''))\n",
    "get_ipython().events.register('pre_run_cell', setup_mathjax)"
   ]
  },
  {
   "cell_type": "code",
   "execution_count": 10,
   "metadata": {},
   "outputs": [
    {
     "data": {
      "text/html": [
       "\n",
       "    <script>\n",
       "        if (!window.MathJax && window.google && window.google.colab) {\n",
       "            window.MathJax = {\n",
       "                'tex2jax': {\n",
       "                    'inlineMath': [['$', '$'], ['\\(', '\\)']],\n",
       "                    'displayMath': [['$$', '$$'], ['\\[', '\\]']],\n",
       "                    'processEscapes': true,\n",
       "                    'processEnvironments': true,\n",
       "                    'skipTags': ['script', 'noscript', 'style', 'textarea', 'code'],\n",
       "                    'displayAlign': 'center',\n",
       "                },\n",
       "                'HTML-CSS': {\n",
       "                    'styles': {'.MathJax_Display': {'margin': 0}},\n",
       "                    'linebreaks': {'automatic': true},\n",
       "                    // Disable to prevent OTF font loading, which aren't part of our\n",
       "                    // distribution.\n",
       "                    'imageFont': null,\n",
       "                },\n",
       "               'messageStyle': 'none'\n",
       "            };\n",
       "            var script = document.createElement(\"script\");\n",
       "            script.src = \"https://colab.research.google.com/static/mathjax/MathJax.js?config=TeX-AMS_HTML-full,Safe\";\n",
       "            document.head.appendChild(script);\n",
       "        }\n",
       "    </script>\n",
       "    "
      ],
      "text/plain": [
       "<IPython.core.display.HTML object>"
      ]
     },
     "metadata": {},
     "output_type": "display_data"
    },
    {
     "data": {
      "image/png": "[encoded data removed]",
      "text/latex": [
       "$$\\left[\\begin{matrix}1 & 0 & 0 & 0\\\\0 & e^{\\frac{i \\pi}{4}} & 0 & 0\\\\0 & 0 & i & 0\\\\0 & 0 & 0 & i e^{\\frac{i \\pi}{4}}\\end{matrix}\\right]$$"
      ],
      "text/plain": [
       "⎡1   0    0    0   ⎤\n",
       "⎢                  ⎥\n",
       "⎢    ⅈ⋅π           ⎥\n",
       "⎢    ───           ⎥\n",
       "⎢     4            ⎥\n",
       "⎢0  ℯ     0    0   ⎥\n",
       "⎢                  ⎥\n",
       "⎢0   0    ⅈ    0   ⎥\n",
       "⎢                  ⎥\n",
       "⎢               ⅈ⋅π⎥\n",
       "⎢               ───⎥\n",
       "⎢                4 ⎥\n",
       "⎣0   0    0  ⅈ⋅ℯ   ⎦"
      ]
     },
     "execution_count": 10,
     "metadata": {},
     "output_type": "execute_result"
    }
   ],
   "source": [
    "represent(T(0)*S(1),nqubits = 2)"
   ]
  },
  {
   "cell_type": "markdown",
   "metadata": {},
   "source": [
    "この行列はすでに対角化されており、固有値の位相$\\lambda$は$0, \\pi/4, \\pi/2, 3\\pi/4$で、その2進小数表示は$(2\\pi)0.0, (2\\pi)0.001, (2\\pi)0.01, (2\\pi)0.011$である。よってこれらを誤差なく測定するためには3つの補助量子ビットが必要である。   \n",
    "` CGateS ` 関数を用いて、$U$を制御化した `cP_2,3,4` を定義しよう。（2,3,4が3つの補助量子ビットに対応している。0,1は$U$の作用する空間である。先ほどの位相推定の回路図でいうと、下から順番に0,1,2,...とビットを名付けている。）"
   ]
  },
  {
   "cell_type": "code",
   "execution_count": 11,
   "metadata": {},
   "outputs": [
    {
     "data": {
      "text/html": [
       "\n",
       "    <script>\n",
       "        if (!window.MathJax && window.google && window.google.colab) {\n",
       "            window.MathJax = {\n",
       "                'tex2jax': {\n",
       "                    'inlineMath': [['$', '$'], ['\\(', '\\)']],\n",
       "                    'displayMath': [['$$', '$$'], ['\\[', '\\]']],\n",
       "                    'processEscapes': true,\n",
       "                    'processEnvironments': true,\n",
       "                    'skipTags': ['script', 'noscript', 'style', 'textarea', 'code'],\n",
       "                    'displayAlign': 'center',\n",
       "                },\n",
       "                'HTML-CSS': {\n",
       "                    'styles': {'.MathJax_Display': {'margin': 0}},\n",
       "                    'linebreaks': {'automatic': true},\n",
       "                    // Disable to prevent OTF font loading, which aren't part of our\n",
       "                    // distribution.\n",
       "                    'imageFont': null,\n",
       "                },\n",
       "               'messageStyle': 'none'\n",
       "            };\n",
       "            var script = document.createElement(\"script\");\n",
       "            script.src = \"https://colab.research.google.com/static/mathjax/MathJax.js?config=TeX-AMS_HTML-full,Safe\";\n",
       "            document.head.appendChild(script);\n",
       "        }\n",
       "    </script>\n",
       "    "
      ],
      "text/plain": [
       "<IPython.core.display.HTML object>"
      ]
     },
     "metadata": {},
     "output_type": "display_data"
    }
   ],
   "source": [
    "cP_2 = CGateS(2,T(0))*CGateS(2,S(1))\n",
    "cP_3 = CGateS(3,T(0))*CGateS(3,S(1))\n",
    "cP_4 = CGateS(4,T(0))*CGateS(4,S(1))"
   ]
  },
  {
   "cell_type": "markdown",
   "metadata": {},
   "source": [
    "3つの補助量子ビットを用いて、位相推定アルゴリズムを構成していこう。   \n",
    "まずはアダマールゲートを全ての補助量子ビットにかける。"
   ]
  },
  {
   "cell_type": "code",
   "execution_count": 12,
   "metadata": {},
   "outputs": [
    {
     "data": {
      "text/html": [
       "\n",
       "    <script>\n",
       "        if (!window.MathJax && window.google && window.google.colab) {\n",
       "            window.MathJax = {\n",
       "                'tex2jax': {\n",
       "                    'inlineMath': [['$', '$'], ['\\(', '\\)']],\n",
       "                    'displayMath': [['$$', '$$'], ['\\[', '\\]']],\n",
       "                    'processEscapes': true,\n",
       "                    'processEnvironments': true,\n",
       "                    'skipTags': ['script', 'noscript', 'style', 'textarea', 'code'],\n",
       "                    'displayAlign': 'center',\n",
       "                },\n",
       "                'HTML-CSS': {\n",
       "                    'styles': {'.MathJax_Display': {'margin': 0}},\n",
       "                    'linebreaks': {'automatic': true},\n",
       "                    // Disable to prevent OTF font loading, which aren't part of our\n",
       "                    // distribution.\n",
       "                    'imageFont': null,\n",
       "                },\n",
       "               'messageStyle': 'none'\n",
       "            };\n",
       "            var script = document.createElement(\"script\");\n",
       "            script.src = \"https://colab.research.google.com/static/mathjax/MathJax.js?config=TeX-AMS_HTML-full,Safe\";\n",
       "            document.head.appendChild(script);\n",
       "        }\n",
       "    </script>\n",
       "    "
      ],
      "text/plain": [
       "<IPython.core.display.HTML object>"
      ]
     },
     "metadata": {},
     "output_type": "display_data"
    },
    {
     "data": {
      "image/png": "[encoded data removed]",
      "text/latex": [
       "$$H_{4} H_{3} H_{2}$$"
      ],
      "text/plain": [
       "H ⋅H ⋅H \n",
       " 4  3  2"
      ]
     },
     "execution_count": 12,
     "metadata": {},
     "output_type": "execute_result"
    }
   ],
   "source": [
    "PhaEst = H(4)*H(3)*H(2)\n",
    "PhaEst"
   ]
  },
  {
   "cell_type": "markdown",
   "metadata": {},
   "source": [
    "次に、制御ユニタリーをそれぞれ、1回、2回、4回と作用させていく。"
   ]
  },
  {
   "cell_type": "code",
   "execution_count": 13,
   "metadata": {},
   "outputs": [
    {
     "data": {
      "text/html": [
       "\n",
       "    <script>\n",
       "        if (!window.MathJax && window.google && window.google.colab) {\n",
       "            window.MathJax = {\n",
       "                'tex2jax': {\n",
       "                    'inlineMath': [['$', '$'], ['\\(', '\\)']],\n",
       "                    'displayMath': [['$$', '$$'], ['\\[', '\\]']],\n",
       "                    'processEscapes': true,\n",
       "                    'processEnvironments': true,\n",
       "                    'skipTags': ['script', 'noscript', 'style', 'textarea', 'code'],\n",
       "                    'displayAlign': 'center',\n",
       "                },\n",
       "                'HTML-CSS': {\n",
       "                    'styles': {'.MathJax_Display': {'margin': 0}},\n",
       "                    'linebreaks': {'automatic': true},\n",
       "                    // Disable to prevent OTF font loading, which aren't part of our\n",
       "                    // distribution.\n",
       "                    'imageFont': null,\n",
       "                },\n",
       "               'messageStyle': 'none'\n",
       "            };\n",
       "            var script = document.createElement(\"script\");\n",
       "            script.src = \"https://colab.research.google.com/static/mathjax/MathJax.js?config=TeX-AMS_HTML-full,Safe\";\n",
       "            document.head.appendChild(script);\n",
       "        }\n",
       "    </script>\n",
       "    "
      ],
      "text/plain": [
       "<IPython.core.display.HTML object>"
      ]
     },
     "metadata": {},
     "output_type": "display_data"
    }
   ],
   "source": [
    "PhaEst = cP_2*cP_3*cP_3*cP_4*cP_4*cP_4*cP_4*PhaEst"
   ]
  },
  {
   "cell_type": "markdown",
   "metadata": {},
   "source": [
    "これで位相推定アルゴリズムの前半部分は終了である。ここから逆量子フーリエ変換を構築する。   \n",
    "まず小数第3位については、補助量子ビット4に$H$演算を作用させればよい。"
   ]
  },
  {
   "cell_type": "code",
   "execution_count": 14,
   "metadata": {},
   "outputs": [
    {
     "data": {
      "text/html": [
       "\n",
       "    <script>\n",
       "        if (!window.MathJax && window.google && window.google.colab) {\n",
       "            window.MathJax = {\n",
       "                'tex2jax': {\n",
       "                    'inlineMath': [['$', '$'], ['\\(', '\\)']],\n",
       "                    'displayMath': [['$$', '$$'], ['\\[', '\\]']],\n",
       "                    'processEscapes': true,\n",
       "                    'processEnvironments': true,\n",
       "                    'skipTags': ['script', 'noscript', 'style', 'textarea', 'code'],\n",
       "                    'displayAlign': 'center',\n",
       "                },\n",
       "                'HTML-CSS': {\n",
       "                    'styles': {'.MathJax_Display': {'margin': 0}},\n",
       "                    'linebreaks': {'automatic': true},\n",
       "                    // Disable to prevent OTF font loading, which aren't part of our\n",
       "                    // distribution.\n",
       "                    'imageFont': null,\n",
       "                },\n",
       "               'messageStyle': 'none'\n",
       "            };\n",
       "            var script = document.createElement(\"script\");\n",
       "            script.src = \"https://colab.research.google.com/static/mathjax/MathJax.js?config=TeX-AMS_HTML-full,Safe\";\n",
       "            document.head.appendChild(script);\n",
       "        }\n",
       "    </script>\n",
       "    "
      ],
      "text/plain": [
       "<IPython.core.display.HTML object>"
      ]
     },
     "metadata": {},
     "output_type": "display_data"
    }
   ],
   "source": [
    "PhaEst = H(4)*PhaEst"
   ]
  },
  {
   "cell_type": "markdown",
   "metadata": {},
   "source": [
    "補助量子ビット3には、まず補助量子ビット4を制御とする制御$R_2^\\dagger=S^{-1}=SZ$演算を作用させる。"
   ]
  },
  {
   "cell_type": "code",
   "execution_count": 15,
   "metadata": {},
   "outputs": [
    {
     "data": {
      "text/html": [
       "\n",
       "    <script>\n",
       "        if (!window.MathJax && window.google && window.google.colab) {\n",
       "            window.MathJax = {\n",
       "                'tex2jax': {\n",
       "                    'inlineMath': [['$', '$'], ['\\(', '\\)']],\n",
       "                    'displayMath': [['$$', '$$'], ['\\[', '\\]']],\n",
       "                    'processEscapes': true,\n",
       "                    'processEnvironments': true,\n",
       "                    'skipTags': ['script', 'noscript', 'style', 'textarea', 'code'],\n",
       "                    'displayAlign': 'center',\n",
       "                },\n",
       "                'HTML-CSS': {\n",
       "                    'styles': {'.MathJax_Display': {'margin': 0}},\n",
       "                    'linebreaks': {'automatic': true},\n",
       "                    // Disable to prevent OTF font loading, which aren't part of our\n",
       "                    // distribution.\n",
       "                    'imageFont': null,\n",
       "                },\n",
       "               'messageStyle': 'none'\n",
       "            };\n",
       "            var script = document.createElement(\"script\");\n",
       "            script.src = \"https://colab.research.google.com/static/mathjax/MathJax.js?config=TeX-AMS_HTML-full,Safe\";\n",
       "            document.head.appendChild(script);\n",
       "        }\n",
       "    </script>\n",
       "    "
      ],
      "text/plain": [
       "<IPython.core.display.HTML object>"
      ]
     },
     "metadata": {},
     "output_type": "display_data"
    }
   ],
   "source": [
    "PhaEst = CGateS(4,S(3))*PhaEst\n",
    "PhaEst = CGateS(4,Z(3))*PhaEst"
   ]
  },
  {
   "cell_type": "markdown",
   "metadata": {},
   "source": [
    "その後に$H$演算を作用させる。"
   ]
  },
  {
   "cell_type": "code",
   "execution_count": 16,
   "metadata": {},
   "outputs": [
    {
     "data": {
      "text/html": [
       "\n",
       "    <script>\n",
       "        if (!window.MathJax && window.google && window.google.colab) {\n",
       "            window.MathJax = {\n",
       "                'tex2jax': {\n",
       "                    'inlineMath': [['$', '$'], ['\\(', '\\)']],\n",
       "                    'displayMath': [['$$', '$$'], ['\\[', '\\]']],\n",
       "                    'processEscapes': true,\n",
       "                    'processEnvironments': true,\n",
       "                    'skipTags': ['script', 'noscript', 'style', 'textarea', 'code'],\n",
       "                    'displayAlign': 'center',\n",
       "                },\n",
       "                'HTML-CSS': {\n",
       "                    'styles': {'.MathJax_Display': {'margin': 0}},\n",
       "                    'linebreaks': {'automatic': true},\n",
       "                    // Disable to prevent OTF font loading, which aren't part of our\n",
       "                    // distribution.\n",
       "                    'imageFont': null,\n",
       "                },\n",
       "               'messageStyle': 'none'\n",
       "            };\n",
       "            var script = document.createElement(\"script\");\n",
       "            script.src = \"https://colab.research.google.com/static/mathjax/MathJax.js?config=TeX-AMS_HTML-full,Safe\";\n",
       "            document.head.appendChild(script);\n",
       "        }\n",
       "    </script>\n",
       "    "
      ],
      "text/plain": [
       "<IPython.core.display.HTML object>"
      ]
     },
     "metadata": {},
     "output_type": "display_data"
    }
   ],
   "source": [
    "PhaEst = H(3)*PhaEst"
   ]
  },
  {
   "cell_type": "markdown",
   "metadata": {},
   "source": [
    "補助量子ビット2には、\n",
    "\n",
    "- 補助量子ビット3を制御とする制御$R_2^\\dagger = S^{-1} = SZ$演算\n",
    "- 補助量子ビット4を制御とする制御$R_3^\\dagger = TS^{-1} = TSZ$演算\n",
    "- $H$演算\n",
    "\n",
    "の3つを作用させる。"
   ]
  },
  {
   "cell_type": "code",
   "execution_count": 17,
   "metadata": {},
   "outputs": [
    {
     "data": {
      "text/html": [
       "\n",
       "    <script>\n",
       "        if (!window.MathJax && window.google && window.google.colab) {\n",
       "            window.MathJax = {\n",
       "                'tex2jax': {\n",
       "                    'inlineMath': [['$', '$'], ['\\(', '\\)']],\n",
       "                    'displayMath': [['$$', '$$'], ['\\[', '\\]']],\n",
       "                    'processEscapes': true,\n",
       "                    'processEnvironments': true,\n",
       "                    'skipTags': ['script', 'noscript', 'style', 'textarea', 'code'],\n",
       "                    'displayAlign': 'center',\n",
       "                },\n",
       "                'HTML-CSS': {\n",
       "                    'styles': {'.MathJax_Display': {'margin': 0}},\n",
       "                    'linebreaks': {'automatic': true},\n",
       "                    // Disable to prevent OTF font loading, which aren't part of our\n",
       "                    // distribution.\n",
       "                    'imageFont': null,\n",
       "                },\n",
       "               'messageStyle': 'none'\n",
       "            };\n",
       "            var script = document.createElement(\"script\");\n",
       "            script.src = \"https://colab.research.google.com/static/mathjax/MathJax.js?config=TeX-AMS_HTML-full,Safe\";\n",
       "            document.head.appendChild(script);\n",
       "        }\n",
       "    </script>\n",
       "    "
      ],
      "text/plain": [
       "<IPython.core.display.HTML object>"
      ]
     },
     "metadata": {},
     "output_type": "display_data"
    }
   ],
   "source": [
    "PhaEst = CGateS(3,S(2))*PhaEst\n",
    "PhaEst = CGateS(3,Z(2))*PhaEst"
   ]
  },
  {
   "cell_type": "code",
   "execution_count": 18,
   "metadata": {},
   "outputs": [
    {
     "data": {
      "text/html": [
       "\n",
       "    <script>\n",
       "        if (!window.MathJax && window.google && window.google.colab) {\n",
       "            window.MathJax = {\n",
       "                'tex2jax': {\n",
       "                    'inlineMath': [['$', '$'], ['\\(', '\\)']],\n",
       "                    'displayMath': [['$$', '$$'], ['\\[', '\\]']],\n",
       "                    'processEscapes': true,\n",
       "                    'processEnvironments': true,\n",
       "                    'skipTags': ['script', 'noscript', 'style', 'textarea', 'code'],\n",
       "                    'displayAlign': 'center',\n",
       "                },\n",
       "                'HTML-CSS': {\n",
       "                    'styles': {'.MathJax_Display': {'margin': 0}},\n",
       "                    'linebreaks': {'automatic': true},\n",
       "                    // Disable to prevent OTF font loading, which aren't part of our\n",
       "                    // distribution.\n",
       "                    'imageFont': null,\n",
       "                },\n",
       "               'messageStyle': 'none'\n",
       "            };\n",
       "            var script = document.createElement(\"script\");\n",
       "            script.src = \"https://colab.research.google.com/static/mathjax/MathJax.js?config=TeX-AMS_HTML-full,Safe\";\n",
       "            document.head.appendChild(script);\n",
       "        }\n",
       "    </script>\n",
       "    "
      ],
      "text/plain": [
       "<IPython.core.display.HTML object>"
      ]
     },
     "metadata": {},
     "output_type": "display_data"
    }
   ],
   "source": [
    "PhaEst = CGateS(4,T(2))*PhaEst\n",
    "PhaEst = CGateS(4,S(2))*PhaEst\n",
    "PhaEst = CGateS(4,Z(2))*PhaEst\n",
    "PhaEst = H(2)*PhaEst"
   ]
  },
  {
   "cell_type": "markdown",
   "metadata": {},
   "source": [
    "このように構成した位相推定アルゴリズムを固有ベクトルに作用させてみよう。アルゴリズム自体は非常に複雑だ。"
   ]
  },
  {
   "cell_type": "code",
   "execution_count": 19,
   "metadata": {},
   "outputs": [
    {
     "data": {
      "text/html": [
       "\n",
       "    <script>\n",
       "        if (!window.MathJax && window.google && window.google.colab) {\n",
       "            window.MathJax = {\n",
       "                'tex2jax': {\n",
       "                    'inlineMath': [['$', '$'], ['\\(', '\\)']],\n",
       "                    'displayMath': [['$$', '$$'], ['\\[', '\\]']],\n",
       "                    'processEscapes': true,\n",
       "                    'processEnvironments': true,\n",
       "                    'skipTags': ['script', 'noscript', 'style', 'textarea', 'code'],\n",
       "                    'displayAlign': 'center',\n",
       "                },\n",
       "                'HTML-CSS': {\n",
       "                    'styles': {'.MathJax_Display': {'margin': 0}},\n",
       "                    'linebreaks': {'automatic': true},\n",
       "                    // Disable to prevent OTF font loading, which aren't part of our\n",
       "                    // distribution.\n",
       "                    'imageFont': null,\n",
       "                },\n",
       "               'messageStyle': 'none'\n",
       "            };\n",
       "            var script = document.createElement(\"script\");\n",
       "            script.src = \"https://colab.research.google.com/static/mathjax/MathJax.js?config=TeX-AMS_HTML-full,Safe\";\n",
       "            document.head.appendChild(script);\n",
       "        }\n",
       "    </script>\n",
       "    "
      ],
      "text/plain": [
       "<IPython.core.display.HTML object>"
      ]
     },
     "metadata": {},
     "output_type": "display_data"
    },
    {
     "data": {
      "image/png": "[encoded data removed]",
      "text/latex": [
       "$$H_{2} C_{4}{\\left(Z_{2}\\right)} C_{4}{\\left(S_{2}\\right)} C_{4}{\\left(T_{2}\\right)} C_{3}{\\left(Z_{2}\\right)} C_{3}{\\left(S_{2}\\right)} H_{3} C_{4}{\\left(Z_{3}\\right)} C_{4}{\\left(S_{3}\\right)} H_{4} C_{2}{\\left(T_{0}\\right)} C_{2}{\\left(S_{1}\\right)} C_{3}{\\left(T_{0}\\right)} C_{3}{\\left(S_{1}\\right)} C_{3}{\\left(T_{0}\\right)} C_{3}{\\left(S_{1}\\right)} C_{4}{\\left(T_{0}\\right)} C_{4}{\\left(S_{1}\\right)} C_{4}{\\left(T_{0}\\right)} C_{4}{\\left(S_{1}\\right)} C_{4}{\\left(T_{0}\\right)} C_{4}{\\left(S_{1}\\right)} C_{4}{\\left(T_{0}\\right)} C_{4}{\\left(S_{1}\\right)} H_{4} H_{3} H_{2}$$"
      ],
      "text/plain": [
       "H ⋅C ⎛Z ⎞⋅C ⎛S ⎞⋅C ⎛T ⎞⋅C ⎛Z ⎞⋅C ⎛S ⎞⋅H ⋅C ⎛Z ⎞⋅C ⎛S ⎞⋅H ⋅C ⎛T ⎞⋅C ⎛S ⎞⋅C ⎛T ⎞\n",
       " 2  4⎝ 2⎠  4⎝ 2⎠  4⎝ 2⎠  3⎝ 2⎠  3⎝ 2⎠  3  4⎝ 3⎠  4⎝ 3⎠  4  2⎝ 0⎠  2⎝ 1⎠  3⎝ 0⎠\n",
       "\n",
       "⋅C ⎛S ⎞⋅C ⎛T ⎞⋅C ⎛S ⎞⋅C ⎛T ⎞⋅C ⎛S ⎞⋅C ⎛T ⎞⋅C ⎛S ⎞⋅C ⎛T ⎞⋅C ⎛S ⎞⋅C ⎛T ⎞⋅C ⎛S ⎞⋅\n",
       "  3⎝ 1⎠  3⎝ 0⎠  3⎝ 1⎠  4⎝ 0⎠  4⎝ 1⎠  4⎝ 0⎠  4⎝ 1⎠  4⎝ 0⎠  4⎝ 1⎠  4⎝ 0⎠  4⎝ 1⎠ \n",
       "\n",
       "H ⋅H ⋅H \n",
       " 4  3  2"
      ]
     },
     "execution_count": 19,
     "metadata": {},
     "output_type": "execute_result"
    }
   ],
   "source": [
    "PhaEst"
   ]
  },
  {
   "cell_type": "markdown",
   "metadata": {},
   "source": [
    "しかし実際、入力に作用させると、"
   ]
  },
  {
   "cell_type": "code",
   "execution_count": 20,
   "metadata": {},
   "outputs": [
    {
     "data": {
      "text/html": [
       "\n",
       "    <script>\n",
       "        if (!window.MathJax && window.google && window.google.colab) {\n",
       "            window.MathJax = {\n",
       "                'tex2jax': {\n",
       "                    'inlineMath': [['$', '$'], ['\\(', '\\)']],\n",
       "                    'displayMath': [['$$', '$$'], ['\\[', '\\]']],\n",
       "                    'processEscapes': true,\n",
       "                    'processEnvironments': true,\n",
       "                    'skipTags': ['script', 'noscript', 'style', 'textarea', 'code'],\n",
       "                    'displayAlign': 'center',\n",
       "                },\n",
       "                'HTML-CSS': {\n",
       "                    'styles': {'.MathJax_Display': {'margin': 0}},\n",
       "                    'linebreaks': {'automatic': true},\n",
       "                    // Disable to prevent OTF font loading, which aren't part of our\n",
       "                    // distribution.\n",
       "                    'imageFont': null,\n",
       "                },\n",
       "               'messageStyle': 'none'\n",
       "            };\n",
       "            var script = document.createElement(\"script\");\n",
       "            script.src = \"https://colab.research.google.com/static/mathjax/MathJax.js?config=TeX-AMS_HTML-full,Safe\";\n",
       "            document.head.appendChild(script);\n",
       "        }\n",
       "    </script>\n",
       "    "
      ],
      "text/plain": [
       "<IPython.core.display.HTML object>"
      ]
     },
     "metadata": {},
     "output_type": "display_data"
    },
    {
     "data": {
      "image/png": "[encoded data removed]",
      "text/latex": [
       "$${\\left|11011\\right\\rangle }$$"
      ],
      "text/plain": [
       "❘11011⟩"
      ]
     },
     "execution_count": 20,
     "metadata": {},
     "output_type": "execute_result"
    }
   ],
   "source": [
    "simplify(qapply(PhaEst*Qubit(\"00011\")))"
   ]
  },
  {
   "cell_type": "markdown",
   "metadata": {},
   "source": [
    "のように設計通り単純な解が得られることが確認できる。\n",
    "実際、入力$|\\psi\\rangle$は$|11\\rangle$なので対応する固有値は$e^{i3\\pi/4}$だが、補助量子ビット2,3,4は011となっており、固有値の位相$\\lambda=3\\pi/4$の2進小数0.011が得られている！他の入力に対しても、"
   ]
  },
  {
   "cell_type": "code",
   "execution_count": 21,
   "metadata": {},
   "outputs": [
    {
     "data": {
      "text/html": [
       "\n",
       "    <script>\n",
       "        if (!window.MathJax && window.google && window.google.colab) {\n",
       "            window.MathJax = {\n",
       "                'tex2jax': {\n",
       "                    'inlineMath': [['$', '$'], ['\\(', '\\)']],\n",
       "                    'displayMath': [['$$', '$$'], ['\\[', '\\]']],\n",
       "                    'processEscapes': true,\n",
       "                    'processEnvironments': true,\n",
       "                    'skipTags': ['script', 'noscript', 'style', 'textarea', 'code'],\n",
       "                    'displayAlign': 'center',\n",
       "                },\n",
       "                'HTML-CSS': {\n",
       "                    'styles': {'.MathJax_Display': {'margin': 0}},\n",
       "                    'linebreaks': {'automatic': true},\n",
       "                    // Disable to prevent OTF font loading, which aren't part of our\n",
       "                    // distribution.\n",
       "                    'imageFont': null,\n",
       "                },\n",
       "               'messageStyle': 'none'\n",
       "            };\n",
       "            var script = document.createElement(\"script\");\n",
       "            script.src = \"https://colab.research.google.com/static/mathjax/MathJax.js?config=TeX-AMS_HTML-full,Safe\";\n",
       "            document.head.appendChild(script);\n",
       "        }\n",
       "    </script>\n",
       "    "
      ],
      "text/plain": [
       "<IPython.core.display.HTML object>"
      ]
     },
     "metadata": {},
     "output_type": "display_data"
    },
    {
     "data": {
      "image/png": "[encoded data removed]",
      "text/latex": [
       "$${\\left|00000\\right\\rangle }$$"
      ],
      "text/plain": [
       "❘00000⟩"
      ]
     },
     "execution_count": 21,
     "metadata": {},
     "output_type": "execute_result"
    }
   ],
   "source": [
    "simplify(qapply(PhaEst*Qubit(\"00000\")))"
   ]
  },
  {
   "cell_type": "code",
   "execution_count": 22,
   "metadata": {},
   "outputs": [
    {
     "data": {
      "text/html": [
       "\n",
       "    <script>\n",
       "        if (!window.MathJax && window.google && window.google.colab) {\n",
       "            window.MathJax = {\n",
       "                'tex2jax': {\n",
       "                    'inlineMath': [['$', '$'], ['\\(', '\\)']],\n",
       "                    'displayMath': [['$$', '$$'], ['\\[', '\\]']],\n",
       "                    'processEscapes': true,\n",
       "                    'processEnvironments': true,\n",
       "                    'skipTags': ['script', 'noscript', 'style', 'textarea', 'code'],\n",
       "                    'displayAlign': 'center',\n",
       "                },\n",
       "                'HTML-CSS': {\n",
       "                    'styles': {'.MathJax_Display': {'margin': 0}},\n",
       "                    'linebreaks': {'automatic': true},\n",
       "                    // Disable to prevent OTF font loading, which aren't part of our\n",
       "                    // distribution.\n",
       "                    'imageFont': null,\n",
       "                },\n",
       "               'messageStyle': 'none'\n",
       "            };\n",
       "            var script = document.createElement(\"script\");\n",
       "            script.src = \"https://colab.research.google.com/static/mathjax/MathJax.js?config=TeX-AMS_HTML-full,Safe\";\n",
       "            document.head.appendChild(script);\n",
       "        }\n",
       "    </script>\n",
       "    "
      ],
      "text/plain": [
       "<IPython.core.display.HTML object>"
      ]
     },
     "metadata": {},
     "output_type": "display_data"
    },
    {
     "data": {
      "image/png": "[encoded data removed]",
      "text/latex": [
       "$${\\left|01010\\right\\rangle }$$"
      ],
      "text/plain": [
       "❘01010⟩"
      ]
     },
     "execution_count": 22,
     "metadata": {},
     "output_type": "execute_result"
    }
   ],
   "source": [
    "simplify(qapply(PhaEst*Qubit(\"00010\")))"
   ]
  },
  {
   "cell_type": "code",
   "execution_count": 23,
   "metadata": {},
   "outputs": [
    {
     "data": {
      "text/html": [
       "\n",
       "    <script>\n",
       "        if (!window.MathJax && window.google && window.google.colab) {\n",
       "            window.MathJax = {\n",
       "                'tex2jax': {\n",
       "                    'inlineMath': [['$', '$'], ['\\(', '\\)']],\n",
       "                    'displayMath': [['$$', '$$'], ['\\[', '\\]']],\n",
       "                    'processEscapes': true,\n",
       "                    'processEnvironments': true,\n",
       "                    'skipTags': ['script', 'noscript', 'style', 'textarea', 'code'],\n",
       "                    'displayAlign': 'center',\n",
       "                },\n",
       "                'HTML-CSS': {\n",
       "                    'styles': {'.MathJax_Display': {'margin': 0}},\n",
       "                    'linebreaks': {'automatic': true},\n",
       "                    // Disable to prevent OTF font loading, which aren't part of our\n",
       "                    // distribution.\n",
       "                    'imageFont': null,\n",
       "                },\n",
       "               'messageStyle': 'none'\n",
       "            };\n",
       "            var script = document.createElement(\"script\");\n",
       "            script.src = \"https://colab.research.google.com/static/mathjax/MathJax.js?config=TeX-AMS_HTML-full,Safe\";\n",
       "            document.head.appendChild(script);\n",
       "        }\n",
       "    </script>\n",
       "    "
      ],
      "text/plain": [
       "<IPython.core.display.HTML object>"
      ]
     },
     "metadata": {},
     "output_type": "display_data"
    },
    {
     "data": {
      "image/png": "[encoded data removed]",
      "text/latex": [
       "$${\\left|10001\\right\\rangle }$$"
      ],
      "text/plain": [
       "❘10001⟩"
      ]
     },
     "execution_count": 23,
     "metadata": {},
     "output_type": "execute_result"
    }
   ],
   "source": [
    "simplify(qapply(PhaEst*Qubit(\"00001\")))"
   ]
  },
  {
   "cell_type": "markdown",
   "metadata": {},
   "source": [
    "のように、4種類の固有値の位相情報が3つの補助量子ビットに得られていることが確かめられる。   \n",
    "また、入力状態が重ね合わせ状態の場合は、"
   ]
  },
  {
   "cell_type": "code",
   "execution_count": 24,
   "metadata": {},
   "outputs": [
    {
     "data": {
      "text/html": [
       "\n",
       "    <script>\n",
       "        if (!window.MathJax && window.google && window.google.colab) {\n",
       "            window.MathJax = {\n",
       "                'tex2jax': {\n",
       "                    'inlineMath': [['$', '$'], ['\\(', '\\)']],\n",
       "                    'displayMath': [['$$', '$$'], ['\\[', '\\]']],\n",
       "                    'processEscapes': true,\n",
       "                    'processEnvironments': true,\n",
       "                    'skipTags': ['script', 'noscript', 'style', 'textarea', 'code'],\n",
       "                    'displayAlign': 'center',\n",
       "                },\n",
       "                'HTML-CSS': {\n",
       "                    'styles': {'.MathJax_Display': {'margin': 0}},\n",
       "                    'linebreaks': {'automatic': true},\n",
       "                    // Disable to prevent OTF font loading, which aren't part of our\n",
       "                    // distribution.\n",
       "                    'imageFont': null,\n",
       "                },\n",
       "               'messageStyle': 'none'\n",
       "            };\n",
       "            var script = document.createElement(\"script\");\n",
       "            script.src = \"https://colab.research.google.com/static/mathjax/MathJax.js?config=TeX-AMS_HTML-full,Safe\";\n",
       "            document.head.appendChild(script);\n",
       "        }\n",
       "    </script>\n",
       "    "
      ],
      "text/plain": [
       "<IPython.core.display.HTML object>"
      ]
     },
     "metadata": {},
     "output_type": "display_data"
    },
    {
     "data": {
      "image/png": "[encoded data removed]",
      "text/latex": [
       "$$\\frac{{\\left|00000\\right\\rangle } + {\\left|01010\\right\\rangle } + {\\left|10001\\right\\rangle } + {\\left|11011\\right\\rangle }}{2}$$"
      ],
      "text/plain": [
       "❘00000⟩ + ❘01010⟩ + ❘10001⟩ + ❘11011⟩\n",
       "─────────────────────────────────────\n",
       "                  2                  "
      ]
     },
     "execution_count": 24,
     "metadata": {},
     "output_type": "execute_result"
    }
   ],
   "source": [
    "simplify(qapply(PhaEst*H(0)*H(1)*Qubit(\"00000\")))"
   ]
  },
  {
   "cell_type": "markdown",
   "metadata": {},
   "source": [
    "のように、それぞれの固有ベクトルに対して、固有値の位相が3つの補助量子ビットへと重ね合わせのまま取り出されている。この状態の補助量子ビットを測定すると、確率的にどれか一つの固有ベクトルと固有値が得られる。"
   ]
  },
  {
   "cell_type": "markdown",
   "metadata": {},
   "source": [
    "---\n",
    "### コラム：素因数分解と位相推定（やや難）\n",
    "\n",
    "位相推定の重要な応用例として、素因数分解アルゴリズムを紹介する。\n",
    "素因数分解問題は$n$桁の整数$N$が与えられた時に$N$の1ではない約数を\n",
    "見つける問題であり、従来のコンピュータでは多項式時間で解けるアルゴリズムは\n",
    "見つかっていない。現在のベストアルゴリズムの計算コストは、\n",
    "\\begin{eqnarray}\n",
    "O\\left(\\exp \\left[\\frac{64}{9} n (\\log n )^2 \\right]^{1/3}\\right)\n",
    "\\end{eqnarray}\n",
    "であり、準指数的な計算時間がかかる。\n",
    "このような素因数分解問題の難しさを利用したRSA暗号などが日常的にも使われている。\n",
    "\n",
    "P.\\ Shorは1994年に、\n",
    "量子コンピュータを用いることによって素因数分解問題が桁数$n$に対して多項式時間で解くことができる\n",
    "ことを示した。これがいわゆるShorの素因数分解アルゴリズムである。\n",
    "\n",
    "$N$を素因数分解したい整数だとしよう。まず、$N$と互いに素な整数$x$を見つけてくる。\n",
    "（$x$はユークリッドの互除法で簡単に見つけられる。\n",
    "適当に$x$を取ってきて、ユークリッドの互除法で$N$と$x$の最大公約数を計算し、\n",
    "それが1以外の整数であれば$N$の非自明な約数がみつかったことになり(素)因数分解が完了するし、\n",
    "1しかなければ$x$は$N$と互いに素な整数であることになる。）\n",
    "このとき、$x$の$N$に関する位数$r$を考えてみる。\n",
    "位数$r$とは、\n",
    "\\begin{eqnarray}\n",
    "x^r \\equiv 1 \\textrm{ (mod $N$)}\n",
    "\\end{eqnarray}\n",
    "を満たす最小の整数であり、ランダムに$x$を選ぶと高い確率で$r$は偶数になることが知られている。\n",
    "$r$が偶数であると、上式は\n",
    "\\begin{eqnarray}\n",
    "(x^{r/2} + 1) (x^{r/2} - 1)  \\equiv 0  \\textrm{ (mod $N$)}\n",
    "\\end{eqnarray}\n",
    "のように変形することができる。\n",
    "これはつまり、$x^{r/2} \\pm 1 \\equiv 0 \\: (\\textrm{mod} \\: N)$であるか、\n",
    "$x^{r/2} + 1$と$x^{r/2} - 1$が$N$と非自明な公約数($N$**の因数**)をもつかのどちらかであることを意味する。\n",
    "実は、$x$がランダムに選ばれているとき、後者の確率が十分高いことも示すことができる。よって、$x^{r/2} + 1$か$x^{r/2} - 1$と$N$との公約数をユークリッドの互除法で用いることにより、最終的に非自明な$N$の因数が見つかることになる。\n",
    "これを繰り返していくことによって、$N$をどんどん小さな因数へと分解していくことができ、最終的に素因数分解が達成できる。\n",
    "\n",
    "そして、素因数分解の鍵となる位数$r$は、実は入力$y$をmod $N$ のもとで$x$倍するという古典計算に対応したユニタリ行列\n",
    "\n",
    "$$\n",
    "U_x = \\sum _y |yx \\: \\textrm{mod} \\: N)\\rangle \\langle y|\n",
    "$$\n",
    "\n",
    "の固有値を求めることによって決定することができる。実際、固有状態のラベル$0 \\leq s \\leq r-1$を用いて，固有ベクトルは \n",
    "\n",
    "$$\n",
    "|u_s\\rangle = \\frac{1}{\\sqrt{r}}\n",
    "\\sum _{k=0}^{r-1} e^ {-2 \\pi i (s/r) k }|x^k (\\textrm{mod} \\: N)\\rangle.\n",
    "$$\n",
    "\n",
    "と書き下すことができ、\n",
    "\n",
    "$$\n",
    "U_x |u_s \\rangle =  e^{2 \\pi i (s/r)} |u_s \\rangle\n",
    "$$\n",
    "\n",
    "を満たす。つまり$U_x$の固有値の位相推定から$s/r$を求めその分母として$r$を得ることができる（そして、その位数$r$から上記の手順で$N$の素因数分解ができる）。\n",
    "これがいわゆる、ショアによる素因数分解アルゴリズム（キタエフの位相推定を利用したバージョン）である。\n",
    "\n",
    "(詳細は Nielsen-Chuang の `5.3 Applicaitons: order-finding and factoring` を参照)"
   ]
  },
  {
   "cell_type": "markdown",
   "metadata": {},
   "source": [
    "---\n",
    "### 第2章のまとめ\n",
    "第2章では、以下のことを学んだ。\n",
    "\n",
    "- 量子アルゴリズムとは何か、NISQアルゴリズムとlong-termアルゴリズムとは何か\n",
    "- アダマールテスト\n",
    "- 量子フーリエ変換\n",
    "- 位相推定アルゴリズム\n",
    "\n",
    "この章で学んだアルゴリズム、特に位相推定アルゴリズムは量子コンピュータを使いこなす上で非常に大切なもので、様々な応用がある。\n",
    "\n",
    "1. 素因数分解問題：上記コラムで見たように、位相推定アルゴリズムを用いて位数という数を推定することによって素因数分解を行うことができる。\n",
    "2. 量子系のエネルギー計算：量子力学において、エネルギーはハミルトニアンと呼ばれる行列の固有値によって与えられる。もっとも安定的な状態のエネルギーはもっとも小さい値の固有値、安定な状態は対応する固有ベクトルで与えられる。ハミルトニアン自体はユニタリー行列ではないものの、行列の指数関数で定義される時間発展に対応するユニタリ行列$e^{-i H t}$に対して位相推定を行うことによって、エネルギーを計算することができる([7-1節](7.1_quantum_phase_estimation_detailed.ipynb))。\n",
    "3. 連立一次方程式$Ax=b$の求解：位相推定を使って求めた固有値・固有ベクトルを用いることにより、連立一次方程式の解を求めることができる([7-2節](7.2_Harrow-Hassidim-Lloyd_algorithm.ipynb))。また、その機械学習への応用も研究されている。"
   ]
  }
 ],
 "metadata": {
  "kernelspec": {
   "display_name": "Python 3",
   "language": "python",
   "name": "python3"
  },
  "language_info": {
   "codemirror_mode": {
    "name": "ipython",
    "version": 3
   },
   "file_extension": ".py",
   "mimetype": "text/x-python",
   "name": "python",
   "nbconvert_exporter": "python",
   "pygments_lexer": "ipython3",
   "version": "3.7.5"
  },
  "varInspector": {
   "cols": {
    "lenName": 16,
    "lenType": 16,
    "lenVar": 40
   },
   "kernels_config": {
    "python": {
     "delete_cmd_postfix": "",
     "delete_cmd_prefix": "del ",
     "library": "var_list.py",
     "varRefreshCmd": "print(var_dic_list())"
    },
    "r": {
     "delete_cmd_postfix": ") ",
     "delete_cmd_prefix": "rm(",
     "library": "var_list.r",
     "varRefreshCmd": "cat(var_dic_list()) "
    }
   },
   "types_to_exclude": [
    "module",
    "function",
    "builtin_function_or_method",
    "instance",
    "_Feature"
   ],
   "window_display": false
  }
 },
 "nbformat": 4,
 "nbformat_minor": 2
}
